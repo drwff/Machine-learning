{
 "cells": [
  {
   "cell_type": "code",
   "execution_count": 162,
   "id": "af07a915",
   "metadata": {},
   "outputs": [],
   "source": [
    "import numpy as np              \n",
    "import matplotlib.pyplot as plt\n",
    "%matplotlib inline \n",
    "import pandas as pd             \n",
    "import seaborn as sns           \n",
    "import sklearn                 "
   ]
  },
  {
   "cell_type": "markdown",
   "id": "67457859",
   "metadata": {},
   "source": [
    "Загружаем данные:"
   ]
  },
  {
   "cell_type": "code",
   "execution_count": 163,
   "id": "b913c179",
   "metadata": {},
   "outputs": [],
   "source": [
    "url = \"https://raw.githubusercontent.com/drwff/Machine-learning/master/songs.csv\"\n",
    "data = pd.read_csv(url)"
   ]
  },
  {
   "cell_type": "code",
   "execution_count": 164,
   "id": "7dd33174",
   "metadata": {
    "scrolled": true
   },
   "outputs": [
    {
     "data": {
      "text/html": [
       "<div>\n",
       "<style scoped>\n",
       "    .dataframe tbody tr th:only-of-type {\n",
       "        vertical-align: middle;\n",
       "    }\n",
       "\n",
       "    .dataframe tbody tr th {\n",
       "        vertical-align: top;\n",
       "    }\n",
       "\n",
       "    .dataframe thead th {\n",
       "        text-align: right;\n",
       "    }\n",
       "</style>\n",
       "<table border=\"1\" class=\"dataframe\">\n",
       "  <thead>\n",
       "    <tr style=\"text-align: right;\">\n",
       "      <th></th>\n",
       "      <th>track_id</th>\n",
       "      <th>bit_rate</th>\n",
       "      <th>comments</th>\n",
       "      <th>composer</th>\n",
       "      <th>date_created</th>\n",
       "      <th>date_recorded</th>\n",
       "      <th>duration</th>\n",
       "      <th>favorites</th>\n",
       "      <th>genre_top</th>\n",
       "      <th>genres</th>\n",
       "      <th>...</th>\n",
       "      <th>information</th>\n",
       "      <th>interest</th>\n",
       "      <th>language_code</th>\n",
       "      <th>license</th>\n",
       "      <th>listens</th>\n",
       "      <th>lyricist</th>\n",
       "      <th>number</th>\n",
       "      <th>publisher</th>\n",
       "      <th>tags</th>\n",
       "      <th>title</th>\n",
       "    </tr>\n",
       "  </thead>\n",
       "  <tbody>\n",
       "    <tr>\n",
       "      <th>0</th>\n",
       "      <td>135</td>\n",
       "      <td>256000</td>\n",
       "      <td>1</td>\n",
       "      <td>NaN</td>\n",
       "      <td>2008-11-26 01:43:26</td>\n",
       "      <td>2008-11-26 00:00:00</td>\n",
       "      <td>837</td>\n",
       "      <td>0</td>\n",
       "      <td>Rock</td>\n",
       "      <td>[45, 58]</td>\n",
       "      <td>...</td>\n",
       "      <td>NaN</td>\n",
       "      <td>2484</td>\n",
       "      <td>en</td>\n",
       "      <td>Attribution-NonCommercial-ShareAlike 3.0 Inter...</td>\n",
       "      <td>1832</td>\n",
       "      <td>NaN</td>\n",
       "      <td>0</td>\n",
       "      <td>NaN</td>\n",
       "      <td>[]</td>\n",
       "      <td>Father's Day</td>\n",
       "    </tr>\n",
       "    <tr>\n",
       "      <th>1</th>\n",
       "      <td>136</td>\n",
       "      <td>256000</td>\n",
       "      <td>1</td>\n",
       "      <td>NaN</td>\n",
       "      <td>2008-11-26 01:43:35</td>\n",
       "      <td>2008-11-26 00:00:00</td>\n",
       "      <td>509</td>\n",
       "      <td>0</td>\n",
       "      <td>Rock</td>\n",
       "      <td>[45, 58]</td>\n",
       "      <td>...</td>\n",
       "      <td>NaN</td>\n",
       "      <td>1948</td>\n",
       "      <td>en</td>\n",
       "      <td>Attribution-NonCommercial-ShareAlike 3.0 Inter...</td>\n",
       "      <td>1498</td>\n",
       "      <td>NaN</td>\n",
       "      <td>0</td>\n",
       "      <td>NaN</td>\n",
       "      <td>[]</td>\n",
       "      <td>Peel Back The Mountain Sky</td>\n",
       "    </tr>\n",
       "    <tr>\n",
       "      <th>2</th>\n",
       "      <td>151</td>\n",
       "      <td>192000</td>\n",
       "      <td>0</td>\n",
       "      <td>NaN</td>\n",
       "      <td>2008-11-26 01:44:55</td>\n",
       "      <td>NaN</td>\n",
       "      <td>192</td>\n",
       "      <td>0</td>\n",
       "      <td>Rock</td>\n",
       "      <td>[25]</td>\n",
       "      <td>...</td>\n",
       "      <td>NaN</td>\n",
       "      <td>701</td>\n",
       "      <td>en</td>\n",
       "      <td>Attribution-NonCommercial-ShareAlike 3.0 Inter...</td>\n",
       "      <td>148</td>\n",
       "      <td>NaN</td>\n",
       "      <td>4</td>\n",
       "      <td>NaN</td>\n",
       "      <td>[]</td>\n",
       "      <td>Untitled 04</td>\n",
       "    </tr>\n",
       "    <tr>\n",
       "      <th>3</th>\n",
       "      <td>152</td>\n",
       "      <td>192000</td>\n",
       "      <td>0</td>\n",
       "      <td>NaN</td>\n",
       "      <td>2008-11-26 01:44:58</td>\n",
       "      <td>NaN</td>\n",
       "      <td>193</td>\n",
       "      <td>0</td>\n",
       "      <td>Rock</td>\n",
       "      <td>[25]</td>\n",
       "      <td>...</td>\n",
       "      <td>NaN</td>\n",
       "      <td>637</td>\n",
       "      <td>en</td>\n",
       "      <td>Attribution-NonCommercial-ShareAlike 3.0 Inter...</td>\n",
       "      <td>98</td>\n",
       "      <td>NaN</td>\n",
       "      <td>11</td>\n",
       "      <td>NaN</td>\n",
       "      <td>[]</td>\n",
       "      <td>Untitled 11</td>\n",
       "    </tr>\n",
       "    <tr>\n",
       "      <th>4</th>\n",
       "      <td>153</td>\n",
       "      <td>256000</td>\n",
       "      <td>0</td>\n",
       "      <td>Arc and Sender</td>\n",
       "      <td>2008-11-26 01:45:00</td>\n",
       "      <td>2008-11-26 00:00:00</td>\n",
       "      <td>405</td>\n",
       "      <td>5</td>\n",
       "      <td>Rock</td>\n",
       "      <td>[26]</td>\n",
       "      <td>...</td>\n",
       "      <td>NaN</td>\n",
       "      <td>354</td>\n",
       "      <td>en</td>\n",
       "      <td>Attribution-NonCommercial-NoDerivatives (aka M...</td>\n",
       "      <td>424</td>\n",
       "      <td>NaN</td>\n",
       "      <td>2</td>\n",
       "      <td>NaN</td>\n",
       "      <td>[]</td>\n",
       "      <td>Hundred-Year Flood</td>\n",
       "    </tr>\n",
       "    <tr>\n",
       "      <th>...</th>\n",
       "      <td>...</td>\n",
       "      <td>...</td>\n",
       "      <td>...</td>\n",
       "      <td>...</td>\n",
       "      <td>...</td>\n",
       "      <td>...</td>\n",
       "      <td>...</td>\n",
       "      <td>...</td>\n",
       "      <td>...</td>\n",
       "      <td>...</td>\n",
       "      <td>...</td>\n",
       "      <td>...</td>\n",
       "      <td>...</td>\n",
       "      <td>...</td>\n",
       "      <td>...</td>\n",
       "      <td>...</td>\n",
       "      <td>...</td>\n",
       "      <td>...</td>\n",
       "      <td>...</td>\n",
       "      <td>...</td>\n",
       "      <td>...</td>\n",
       "    </tr>\n",
       "    <tr>\n",
       "      <th>17729</th>\n",
       "      <td>155063</td>\n",
       "      <td>320000</td>\n",
       "      <td>0</td>\n",
       "      <td>NaN</td>\n",
       "      <td>2017-03-24 19:40:43</td>\n",
       "      <td>NaN</td>\n",
       "      <td>283</td>\n",
       "      <td>3</td>\n",
       "      <td>Hip-Hop</td>\n",
       "      <td>[21, 811]</td>\n",
       "      <td>...</td>\n",
       "      <td>NaN</td>\n",
       "      <td>1283</td>\n",
       "      <td>NaN</td>\n",
       "      <td>Attribution</td>\n",
       "      <td>1050</td>\n",
       "      <td>NaN</td>\n",
       "      <td>4</td>\n",
       "      <td>NaN</td>\n",
       "      <td>['old school beats', '2017 free instrumentals'...</td>\n",
       "      <td>Been On</td>\n",
       "    </tr>\n",
       "    <tr>\n",
       "      <th>17730</th>\n",
       "      <td>155064</td>\n",
       "      <td>320000</td>\n",
       "      <td>0</td>\n",
       "      <td>NaN</td>\n",
       "      <td>2017-03-24 19:40:44</td>\n",
       "      <td>NaN</td>\n",
       "      <td>250</td>\n",
       "      <td>2</td>\n",
       "      <td>Hip-Hop</td>\n",
       "      <td>[21, 811]</td>\n",
       "      <td>...</td>\n",
       "      <td>NaN</td>\n",
       "      <td>1077</td>\n",
       "      <td>NaN</td>\n",
       "      <td>Attribution</td>\n",
       "      <td>858</td>\n",
       "      <td>NaN</td>\n",
       "      <td>2</td>\n",
       "      <td>NaN</td>\n",
       "      <td>['old school beats', '2017 free instrumentals'...</td>\n",
       "      <td>Send Me</td>\n",
       "    </tr>\n",
       "    <tr>\n",
       "      <th>17731</th>\n",
       "      <td>155065</td>\n",
       "      <td>320000</td>\n",
       "      <td>0</td>\n",
       "      <td>NaN</td>\n",
       "      <td>2017-03-24 19:40:45</td>\n",
       "      <td>NaN</td>\n",
       "      <td>219</td>\n",
       "      <td>3</td>\n",
       "      <td>Hip-Hop</td>\n",
       "      <td>[21, 811]</td>\n",
       "      <td>...</td>\n",
       "      <td>NaN</td>\n",
       "      <td>1340</td>\n",
       "      <td>NaN</td>\n",
       "      <td>Attribution</td>\n",
       "      <td>1142</td>\n",
       "      <td>NaN</td>\n",
       "      <td>1</td>\n",
       "      <td>NaN</td>\n",
       "      <td>['old school beats', '2017 free instrumentals'...</td>\n",
       "      <td>The Question</td>\n",
       "    </tr>\n",
       "    <tr>\n",
       "      <th>17732</th>\n",
       "      <td>155066</td>\n",
       "      <td>320000</td>\n",
       "      <td>0</td>\n",
       "      <td>NaN</td>\n",
       "      <td>2017-03-24 19:40:47</td>\n",
       "      <td>NaN</td>\n",
       "      <td>252</td>\n",
       "      <td>6</td>\n",
       "      <td>Hip-Hop</td>\n",
       "      <td>[21, 811]</td>\n",
       "      <td>...</td>\n",
       "      <td>NaN</td>\n",
       "      <td>2065</td>\n",
       "      <td>NaN</td>\n",
       "      <td>Attribution</td>\n",
       "      <td>1474</td>\n",
       "      <td>NaN</td>\n",
       "      <td>3</td>\n",
       "      <td>NaN</td>\n",
       "      <td>['old school beats', '2017 free instrumentals'...</td>\n",
       "      <td>Roy</td>\n",
       "    </tr>\n",
       "    <tr>\n",
       "      <th>17733</th>\n",
       "      <td>155247</td>\n",
       "      <td>320000</td>\n",
       "      <td>0</td>\n",
       "      <td>Fleslit</td>\n",
       "      <td>2017-03-29 01:40:28</td>\n",
       "      <td>NaN</td>\n",
       "      <td>211</td>\n",
       "      <td>3</td>\n",
       "      <td>Hip-Hop</td>\n",
       "      <td>[21, 539, 811]</td>\n",
       "      <td>...</td>\n",
       "      <td>NaN</td>\n",
       "      <td>1379</td>\n",
       "      <td>NaN</td>\n",
       "      <td>Attribution</td>\n",
       "      <td>1025</td>\n",
       "      <td>NaN</td>\n",
       "      <td>0</td>\n",
       "      <td>Fleslit</td>\n",
       "      <td>['instrumental trap beat', 'love', 'instrument...</td>\n",
       "      <td>Love In The Sky</td>\n",
       "    </tr>\n",
       "  </tbody>\n",
       "</table>\n",
       "<p>17734 rows × 21 columns</p>\n",
       "</div>"
      ],
      "text/plain": [
       "       track_id  bit_rate  comments        composer         date_created  \\\n",
       "0           135    256000         1             NaN  2008-11-26 01:43:26   \n",
       "1           136    256000         1             NaN  2008-11-26 01:43:35   \n",
       "2           151    192000         0             NaN  2008-11-26 01:44:55   \n",
       "3           152    192000         0             NaN  2008-11-26 01:44:58   \n",
       "4           153    256000         0  Arc and Sender  2008-11-26 01:45:00   \n",
       "...         ...       ...       ...             ...                  ...   \n",
       "17729    155063    320000         0             NaN  2017-03-24 19:40:43   \n",
       "17730    155064    320000         0             NaN  2017-03-24 19:40:44   \n",
       "17731    155065    320000         0             NaN  2017-03-24 19:40:45   \n",
       "17732    155066    320000         0             NaN  2017-03-24 19:40:47   \n",
       "17733    155247    320000         0         Fleslit  2017-03-29 01:40:28   \n",
       "\n",
       "             date_recorded  duration  favorites genre_top          genres  \\\n",
       "0      2008-11-26 00:00:00       837          0      Rock        [45, 58]   \n",
       "1      2008-11-26 00:00:00       509          0      Rock        [45, 58]   \n",
       "2                      NaN       192          0      Rock            [25]   \n",
       "3                      NaN       193          0      Rock            [25]   \n",
       "4      2008-11-26 00:00:00       405          5      Rock            [26]   \n",
       "...                    ...       ...        ...       ...             ...   \n",
       "17729                  NaN       283          3   Hip-Hop       [21, 811]   \n",
       "17730                  NaN       250          2   Hip-Hop       [21, 811]   \n",
       "17731                  NaN       219          3   Hip-Hop       [21, 811]   \n",
       "17732                  NaN       252          6   Hip-Hop       [21, 811]   \n",
       "17733                  NaN       211          3   Hip-Hop  [21, 539, 811]   \n",
       "\n",
       "       ... information interest  language_code  \\\n",
       "0      ...         NaN     2484             en   \n",
       "1      ...         NaN     1948             en   \n",
       "2      ...         NaN      701             en   \n",
       "3      ...         NaN      637             en   \n",
       "4      ...         NaN      354             en   \n",
       "...    ...         ...      ...            ...   \n",
       "17729  ...         NaN     1283            NaN   \n",
       "17730  ...         NaN     1077            NaN   \n",
       "17731  ...         NaN     1340            NaN   \n",
       "17732  ...         NaN     2065            NaN   \n",
       "17733  ...         NaN     1379            NaN   \n",
       "\n",
       "                                                 license listens  lyricist  \\\n",
       "0      Attribution-NonCommercial-ShareAlike 3.0 Inter...    1832       NaN   \n",
       "1      Attribution-NonCommercial-ShareAlike 3.0 Inter...    1498       NaN   \n",
       "2      Attribution-NonCommercial-ShareAlike 3.0 Inter...     148       NaN   \n",
       "3      Attribution-NonCommercial-ShareAlike 3.0 Inter...      98       NaN   \n",
       "4      Attribution-NonCommercial-NoDerivatives (aka M...     424       NaN   \n",
       "...                                                  ...     ...       ...   \n",
       "17729                                        Attribution    1050       NaN   \n",
       "17730                                        Attribution     858       NaN   \n",
       "17731                                        Attribution    1142       NaN   \n",
       "17732                                        Attribution    1474       NaN   \n",
       "17733                                        Attribution    1025       NaN   \n",
       "\n",
       "      number  publisher                                               tags  \\\n",
       "0          0        NaN                                                 []   \n",
       "1          0        NaN                                                 []   \n",
       "2          4        NaN                                                 []   \n",
       "3         11        NaN                                                 []   \n",
       "4          2        NaN                                                 []   \n",
       "...      ...        ...                                                ...   \n",
       "17729      4        NaN  ['old school beats', '2017 free instrumentals'...   \n",
       "17730      2        NaN  ['old school beats', '2017 free instrumentals'...   \n",
       "17731      1        NaN  ['old school beats', '2017 free instrumentals'...   \n",
       "17732      3        NaN  ['old school beats', '2017 free instrumentals'...   \n",
       "17733      0    Fleslit  ['instrumental trap beat', 'love', 'instrument...   \n",
       "\n",
       "                            title  \n",
       "0                    Father's Day  \n",
       "1      Peel Back The Mountain Sky  \n",
       "2                     Untitled 04  \n",
       "3                     Untitled 11  \n",
       "4              Hundred-Year Flood  \n",
       "...                           ...  \n",
       "17729                     Been On  \n",
       "17730                     Send Me  \n",
       "17731                The Question  \n",
       "17732                         Roy  \n",
       "17733             Love In The Sky  \n",
       "\n",
       "[17734 rows x 21 columns]"
      ]
     },
     "execution_count": 164,
     "metadata": {},
     "output_type": "execute_result"
    }
   ],
   "source": [
    "data"
   ]
  },
  {
   "cell_type": "markdown",
   "id": "73625215",
   "metadata": {},
   "source": [
    "Приведем столбцы к категориальному типу:"
   ]
  },
  {
   "cell_type": "code",
   "execution_count": 165,
   "id": "0c1efbfc",
   "metadata": {},
   "outputs": [],
   "source": [
    "data['genre_top'] = data['genre_top'].astype('category')\n",
    "data['composer'] = data['composer'].astype('category')\n",
    "data['date_recorded'] = data['date_recorded'].astype('category')\n",
    "data['information'] = data['information'].astype('category')\n",
    "data['language_code'] = data['language_code'].astype('category')\n",
    "data['license'] = data['license'].astype('category')\n",
    "data['lyricist'] = data['lyricist'].astype('category')\n",
    "data['publisher'] = data['publisher'].astype('category')\n"
   ]
  },
  {
   "cell_type": "markdown",
   "id": "c79768af",
   "metadata": {},
   "source": [
    "Заполняем пропущенные значения:"
   ]
  },
  {
   "cell_type": "code",
   "execution_count": 166,
   "id": "dbbd1562",
   "metadata": {},
   "outputs": [
    {
     "data": {
      "text/plain": [
       "track_id             0\n",
       "bit_rate             0\n",
       "comments             0\n",
       "composer         17568\n",
       "date_created         0\n",
       "date_recorded    15836\n",
       "duration             0\n",
       "favorites            0\n",
       "genre_top            0\n",
       "genres               0\n",
       "genres_all           0\n",
       "information      17252\n",
       "interest             0\n",
       "language_code    13645\n",
       "license             20\n",
       "listens              0\n",
       "lyricist         17681\n",
       "number               0\n",
       "publisher        17682\n",
       "tags                 0\n",
       "title                0\n",
       "dtype: int64"
      ]
     },
     "execution_count": 166,
     "metadata": {},
     "output_type": "execute_result"
    }
   ],
   "source": [
    "data.isna().sum()"
   ]
  },
  {
   "cell_type": "markdown",
   "id": "04a9aa54",
   "metadata": {},
   "source": [
    "Пропуски в количественных признаках заполняем медианой."
   ]
  },
  {
   "cell_type": "code",
   "execution_count": 167,
   "id": "7132e277",
   "metadata": {},
   "outputs": [
    {
     "data": {
      "text/plain": [
       "track_id             0\n",
       "bit_rate             0\n",
       "comments             0\n",
       "composer         17568\n",
       "date_created         0\n",
       "date_recorded    15836\n",
       "duration             0\n",
       "favorites            0\n",
       "genre_top            0\n",
       "genres               0\n",
       "genres_all           0\n",
       "information      17252\n",
       "interest             0\n",
       "language_code    13645\n",
       "license             20\n",
       "listens              0\n",
       "lyricist         17681\n",
       "number               0\n",
       "publisher        17682\n",
       "tags                 0\n",
       "title                0\n",
       "dtype: int64"
      ]
     },
     "execution_count": 167,
     "metadata": {},
     "output_type": "execute_result"
    }
   ],
   "source": [
    "data.fillna(data.median(axis = 0), axis=0 , inplace=True)\n",
    "data.isna().sum()"
   ]
  },
  {
   "cell_type": "markdown",
   "id": "279d3afe",
   "metadata": {},
   "source": [
    "В категориальных признаках заполняем модой"
   ]
  },
  {
   "cell_type": "code",
   "execution_count": 168,
   "id": "ea636a50",
   "metadata": {},
   "outputs": [
    {
     "data": {
      "text/plain": [
       "track_id         0\n",
       "bit_rate         0\n",
       "comments         0\n",
       "composer         0\n",
       "date_created     0\n",
       "date_recorded    0\n",
       "duration         0\n",
       "favorites        0\n",
       "genre_top        0\n",
       "genres           0\n",
       "genres_all       0\n",
       "information      0\n",
       "interest         0\n",
       "language_code    0\n",
       "license          0\n",
       "listens          0\n",
       "lyricist         0\n",
       "number           0\n",
       "publisher        0\n",
       "tags             0\n",
       "title            0\n",
       "dtype: int64"
      ]
     },
     "execution_count": 168,
     "metadata": {},
     "output_type": "execute_result"
    }
   ],
   "source": [
    "data['composer'].fillna(data['composer'].mode().iloc[0], inplace=True)\n",
    "data['date_recorded'].fillna(data['date_recorded'].mode().iloc[0], inplace=True)\n",
    "data['information'].fillna(data['information'].mode().iloc[0], inplace=True)\n",
    "data['language_code'].fillna(data['language_code'].mode().iloc[0], inplace=True)\n",
    "data['lyricist'].fillna(data['lyricist'].mode().iloc[0], inplace=True)\n",
    "data['publisher'].fillna(data['publisher'].mode().iloc[0], inplace=True)\n",
    "data['license'].fillna(data['license'].mode().iloc[0], inplace=True)\n",
    "\n",
    "data.isna().sum()"
   ]
  },
  {
   "cell_type": "markdown",
   "id": "7783388f",
   "metadata": {},
   "source": [
    "Сделаем векторизацию категориальных признаков:"
   ]
  },
  {
   "cell_type": "code",
   "execution_count": 169,
   "id": "0aff24df",
   "metadata": {},
   "outputs": [
    {
     "data": {
      "text/html": [
       "<div>\n",
       "<style scoped>\n",
       "    .dataframe tbody tr th:only-of-type {\n",
       "        vertical-align: middle;\n",
       "    }\n",
       "\n",
       "    .dataframe tbody tr th {\n",
       "        vertical-align: top;\n",
       "    }\n",
       "\n",
       "    .dataframe thead th {\n",
       "        text-align: right;\n",
       "    }\n",
       "</style>\n",
       "<table border=\"1\" class=\"dataframe\">\n",
       "  <thead>\n",
       "    <tr style=\"text-align: right;\">\n",
       "      <th></th>\n",
       "      <th>track_id</th>\n",
       "      <th>bit_rate</th>\n",
       "      <th>comments</th>\n",
       "      <th>date_created</th>\n",
       "      <th>duration</th>\n",
       "      <th>favorites</th>\n",
       "      <th>genres</th>\n",
       "      <th>genres_all</th>\n",
       "      <th>interest</th>\n",
       "      <th>listens</th>\n",
       "      <th>...</th>\n",
       "      <th>Attribution-ShareAlike 3.0 International</th>\n",
       "      <th>CC0 1.0 Universal</th>\n",
       "      <th>Creative Commons Attribution</th>\n",
       "      <th>Creative Commons Attribution-NonCommercial-NoDerivatives 4.0</th>\n",
       "      <th>Music Sharing</th>\n",
       "      <th>Noncommercial Sampling Plus</th>\n",
       "      <th>Sampling Plus</th>\n",
       "      <th>ideology.de</th>\n",
       "      <th>Hip-Hop</th>\n",
       "      <th>Rock</th>\n",
       "    </tr>\n",
       "  </thead>\n",
       "  <tbody>\n",
       "    <tr>\n",
       "      <th>0</th>\n",
       "      <td>135</td>\n",
       "      <td>256000</td>\n",
       "      <td>1</td>\n",
       "      <td>2008-11-26 01:43:26</td>\n",
       "      <td>837</td>\n",
       "      <td>0</td>\n",
       "      <td>[45, 58]</td>\n",
       "      <td>[58, 12, 45]</td>\n",
       "      <td>2484</td>\n",
       "      <td>1832</td>\n",
       "      <td>...</td>\n",
       "      <td>0</td>\n",
       "      <td>0</td>\n",
       "      <td>0</td>\n",
       "      <td>0</td>\n",
       "      <td>0</td>\n",
       "      <td>0</td>\n",
       "      <td>0</td>\n",
       "      <td>0</td>\n",
       "      <td>0</td>\n",
       "      <td>1</td>\n",
       "    </tr>\n",
       "    <tr>\n",
       "      <th>1</th>\n",
       "      <td>136</td>\n",
       "      <td>256000</td>\n",
       "      <td>1</td>\n",
       "      <td>2008-11-26 01:43:35</td>\n",
       "      <td>509</td>\n",
       "      <td>0</td>\n",
       "      <td>[45, 58]</td>\n",
       "      <td>[58, 12, 45]</td>\n",
       "      <td>1948</td>\n",
       "      <td>1498</td>\n",
       "      <td>...</td>\n",
       "      <td>0</td>\n",
       "      <td>0</td>\n",
       "      <td>0</td>\n",
       "      <td>0</td>\n",
       "      <td>0</td>\n",
       "      <td>0</td>\n",
       "      <td>0</td>\n",
       "      <td>0</td>\n",
       "      <td>0</td>\n",
       "      <td>1</td>\n",
       "    </tr>\n",
       "    <tr>\n",
       "      <th>2</th>\n",
       "      <td>151</td>\n",
       "      <td>192000</td>\n",
       "      <td>0</td>\n",
       "      <td>2008-11-26 01:44:55</td>\n",
       "      <td>192</td>\n",
       "      <td>0</td>\n",
       "      <td>[25]</td>\n",
       "      <td>[25, 12]</td>\n",
       "      <td>701</td>\n",
       "      <td>148</td>\n",
       "      <td>...</td>\n",
       "      <td>0</td>\n",
       "      <td>0</td>\n",
       "      <td>0</td>\n",
       "      <td>0</td>\n",
       "      <td>0</td>\n",
       "      <td>0</td>\n",
       "      <td>0</td>\n",
       "      <td>0</td>\n",
       "      <td>0</td>\n",
       "      <td>1</td>\n",
       "    </tr>\n",
       "    <tr>\n",
       "      <th>3</th>\n",
       "      <td>152</td>\n",
       "      <td>192000</td>\n",
       "      <td>0</td>\n",
       "      <td>2008-11-26 01:44:58</td>\n",
       "      <td>193</td>\n",
       "      <td>0</td>\n",
       "      <td>[25]</td>\n",
       "      <td>[25, 12]</td>\n",
       "      <td>637</td>\n",
       "      <td>98</td>\n",
       "      <td>...</td>\n",
       "      <td>0</td>\n",
       "      <td>0</td>\n",
       "      <td>0</td>\n",
       "      <td>0</td>\n",
       "      <td>0</td>\n",
       "      <td>0</td>\n",
       "      <td>0</td>\n",
       "      <td>0</td>\n",
       "      <td>0</td>\n",
       "      <td>1</td>\n",
       "    </tr>\n",
       "    <tr>\n",
       "      <th>4</th>\n",
       "      <td>153</td>\n",
       "      <td>256000</td>\n",
       "      <td>0</td>\n",
       "      <td>2008-11-26 01:45:00</td>\n",
       "      <td>405</td>\n",
       "      <td>5</td>\n",
       "      <td>[26]</td>\n",
       "      <td>[26, 12]</td>\n",
       "      <td>354</td>\n",
       "      <td>424</td>\n",
       "      <td>...</td>\n",
       "      <td>0</td>\n",
       "      <td>0</td>\n",
       "      <td>0</td>\n",
       "      <td>0</td>\n",
       "      <td>0</td>\n",
       "      <td>0</td>\n",
       "      <td>0</td>\n",
       "      <td>0</td>\n",
       "      <td>0</td>\n",
       "      <td>1</td>\n",
       "    </tr>\n",
       "  </tbody>\n",
       "</table>\n",
       "<p>5 rows × 474 columns</p>\n",
       "</div>"
      ],
      "text/plain": [
       "   track_id  bit_rate  comments         date_created  duration  favorites  \\\n",
       "0       135    256000         1  2008-11-26 01:43:26       837          0   \n",
       "1       136    256000         1  2008-11-26 01:43:35       509          0   \n",
       "2       151    192000         0  2008-11-26 01:44:55       192          0   \n",
       "3       152    192000         0  2008-11-26 01:44:58       193          0   \n",
       "4       153    256000         0  2008-11-26 01:45:00       405          5   \n",
       "\n",
       "     genres    genres_all  interest  listens  ...  \\\n",
       "0  [45, 58]  [58, 12, 45]      2484     1832  ...   \n",
       "1  [45, 58]  [58, 12, 45]      1948     1498  ...   \n",
       "2      [25]      [25, 12]       701      148  ...   \n",
       "3      [25]      [25, 12]       637       98  ...   \n",
       "4      [26]      [26, 12]       354      424  ...   \n",
       "\n",
       "   Attribution-ShareAlike 3.0 International CC0 1.0 Universal  \\\n",
       "0                                         0                 0   \n",
       "1                                         0                 0   \n",
       "2                                         0                 0   \n",
       "3                                         0                 0   \n",
       "4                                         0                 0   \n",
       "\n",
       "  Creative Commons Attribution  \\\n",
       "0                            0   \n",
       "1                            0   \n",
       "2                            0   \n",
       "3                            0   \n",
       "4                            0   \n",
       "\n",
       "   Creative Commons Attribution-NonCommercial-NoDerivatives 4.0  \\\n",
       "0                                                  0              \n",
       "1                                                  0              \n",
       "2                                                  0              \n",
       "3                                                  0              \n",
       "4                                                  0              \n",
       "\n",
       "   Music Sharing  Noncommercial Sampling Plus  Sampling Plus  ideology.de  \\\n",
       "0              0                            0              0            0   \n",
       "1              0                            0              0            0   \n",
       "2              0                            0              0            0   \n",
       "3              0                            0              0            0   \n",
       "4              0                            0              0            0   \n",
       "\n",
       "   Hip-Hop  Rock  \n",
       "0        0     1  \n",
       "1        0     1  \n",
       "2        0     1  \n",
       "3        0     1  \n",
       "4        0     1  \n",
       "\n",
       "[5 rows x 474 columns]"
      ]
     },
     "execution_count": 169,
     "metadata": {},
     "output_type": "execute_result"
    }
   ],
   "source": [
    "composer_dummies = pd.get_dummies(data['composer'])\n",
    "date_recorded_dummies = pd.get_dummies(data['date_recorded'])\n",
    "information_dummies = pd.get_dummies(data['information'])\n",
    "language_code_dummies = pd.get_dummies(data['language_code'])\n",
    "lyricist_dummies = pd.get_dummies(data['lyricist'])\n",
    "publisher_dummies = pd.get_dummies(data['publisher'])\n",
    "license_dummies = pd.get_dummies(data['license'])\n",
    "genre_dummies = pd.get_dummies(data['genre_top'])\n",
    "\n",
    "\n",
    "data = pd.concat((data, composer_dummies), axis=1)\n",
    "data = pd.concat((data, date_recorded_dummies), axis=1)\n",
    "data = pd.concat((data, information_dummies), axis=1)\n",
    "data = pd.concat((data, language_code_dummies), axis=1)\n",
    "data = pd.concat((data, lyricist_dummies), axis=1)\n",
    "data = pd.concat((data, publisher_dummies), axis=1)\n",
    "data = pd.concat((data, license_dummies), axis=1)\n",
    "data = pd.concat((data, genre_dummies), axis=1)\n",
    "\n",
    "y = data['genre_top']\n",
    "\n",
    "data = data.drop(['composer'], axis=1)\n",
    "data = data.drop(['date_recorded'], axis=1)\n",
    "data = data.drop(['information'], axis=1)\n",
    "data = data.drop(['language_code'], axis=1)\n",
    "data = data.drop(['lyricist'], axis=1)\n",
    "data = data.drop(['publisher'], axis=1)\n",
    "data = data.drop(['license'], axis=1)\n",
    "data = data.drop(['genre_top'], axis=1)\n",
    "\n",
    "\n",
    "data.head()\n",
    "\n",
    "\n"
   ]
  },
  {
   "cell_type": "markdown",
   "id": "bf54d1c4",
   "metadata": {},
   "source": [
    "Уберем повторяющиеся столбцы и нормализуем наши данные: "
   ]
  },
  {
   "cell_type": "code",
   "execution_count": 170,
   "id": "ca6b31a8",
   "metadata": {},
   "outputs": [
    {
     "data": {
      "text/html": [
       "<div>\n",
       "<style scoped>\n",
       "    .dataframe tbody tr th:only-of-type {\n",
       "        vertical-align: middle;\n",
       "    }\n",
       "\n",
       "    .dataframe tbody tr th {\n",
       "        vertical-align: top;\n",
       "    }\n",
       "\n",
       "    .dataframe thead th {\n",
       "        text-align: right;\n",
       "    }\n",
       "</style>\n",
       "<table border=\"1\" class=\"dataframe\">\n",
       "  <thead>\n",
       "    <tr style=\"text-align: right;\">\n",
       "      <th></th>\n",
       "      <th>Alexander Naumov</th>\n",
       "      <th>1981-01-01 00:00:00</th>\n",
       "      <th>1982-08-23 00:00:00</th>\n",
       "      <th>1982-11-26 00:00:00</th>\n",
       "      <th>1988-01-01 00:00:00</th>\n",
       "      <th>1991-11-26 00:00:00</th>\n",
       "      <th>1994-11-26 00:00:00</th>\n",
       "      <th>1995-11-26 00:00:00</th>\n",
       "      <th>1995-12-05 00:00:00</th>\n",
       "      <th>1996-07-21 00:00:00</th>\n",
       "      <th>...</th>\n",
       "      <th>number</th>\n",
       "      <th>pt</th>\n",
       "      <th>ru</th>\n",
       "      <th>sentense</th>\n",
       "      <th>sr</th>\n",
       "      <th>tr</th>\n",
       "      <th>track_id</th>\n",
       "      <th>traditional</th>\n",
       "      <th>uses samples from\\n\\na) Jazu64               Fenslerfilm GI Joe PSA 18 – pimp           http://www.youtube.com/watch?v=LjuPGKvdeFo\\n\\nb) nikolat      allconnected_88bpm.wav         http://www.freesound.org/samplesViewSingle.php?id=22126</th>\n",
       "      <th>zh</th>\n",
       "    </tr>\n",
       "  </thead>\n",
       "  <tbody>\n",
       "    <tr>\n",
       "      <th>count</th>\n",
       "      <td>1.773400e+04</td>\n",
       "      <td>1.773400e+04</td>\n",
       "      <td>1.773400e+04</td>\n",
       "      <td>1.773400e+04</td>\n",
       "      <td>1.773400e+04</td>\n",
       "      <td>1.773400e+04</td>\n",
       "      <td>1.773400e+04</td>\n",
       "      <td>1.773400e+04</td>\n",
       "      <td>1.773400e+04</td>\n",
       "      <td>1.773400e+04</td>\n",
       "      <td>...</td>\n",
       "      <td>1.773400e+04</td>\n",
       "      <td>1.773400e+04</td>\n",
       "      <td>1.773400e+04</td>\n",
       "      <td>1.773400e+04</td>\n",
       "      <td>1.773400e+04</td>\n",
       "      <td>1.773400e+04</td>\n",
       "      <td>1.773400e+04</td>\n",
       "      <td>1.773400e+04</td>\n",
       "      <td>1.773400e+04</td>\n",
       "      <td>1.773400e+04</td>\n",
       "    </tr>\n",
       "    <tr>\n",
       "      <th>mean</th>\n",
       "      <td>2.070440e-16</td>\n",
       "      <td>1.431887e-14</td>\n",
       "      <td>-7.671903e-16</td>\n",
       "      <td>-4.044959e-15</td>\n",
       "      <td>-7.679916e-16</td>\n",
       "      <td>1.121457e-15</td>\n",
       "      <td>-6.566062e-16</td>\n",
       "      <td>1.132676e-15</td>\n",
       "      <td>-2.319950e-15</td>\n",
       "      <td>6.692395e-15</td>\n",
       "      <td>...</td>\n",
       "      <td>-1.858274e-15</td>\n",
       "      <td>-3.092243e-15</td>\n",
       "      <td>6.404794e-16</td>\n",
       "      <td>-7.671903e-16</td>\n",
       "      <td>3.949334e-15</td>\n",
       "      <td>-2.049100e-15</td>\n",
       "      <td>1.809762e-16</td>\n",
       "      <td>-7.680183e-16</td>\n",
       "      <td>-7.672170e-16</td>\n",
       "      <td>1.168244e-15</td>\n",
       "    </tr>\n",
       "    <tr>\n",
       "      <th>std</th>\n",
       "      <td>1.000000e+00</td>\n",
       "      <td>1.000000e+00</td>\n",
       "      <td>1.000000e+00</td>\n",
       "      <td>1.000000e+00</td>\n",
       "      <td>1.000000e+00</td>\n",
       "      <td>1.000000e+00</td>\n",
       "      <td>1.000000e+00</td>\n",
       "      <td>1.000000e+00</td>\n",
       "      <td>1.000000e+00</td>\n",
       "      <td>1.000000e+00</td>\n",
       "      <td>...</td>\n",
       "      <td>1.000000e+00</td>\n",
       "      <td>1.000000e+00</td>\n",
       "      <td>1.000000e+00</td>\n",
       "      <td>1.000000e+00</td>\n",
       "      <td>1.000000e+00</td>\n",
       "      <td>1.000000e+00</td>\n",
       "      <td>1.000000e+00</td>\n",
       "      <td>1.000000e+00</td>\n",
       "      <td>1.000000e+00</td>\n",
       "      <td>1.000000e+00</td>\n",
       "    </tr>\n",
       "    <tr>\n",
       "      <th>min</th>\n",
       "      <td>-1.061998e-02</td>\n",
       "      <td>-3.831684e-02</td>\n",
       "      <td>-7.509251e-03</td>\n",
       "      <td>-2.375237e-02</td>\n",
       "      <td>-7.509251e-03</td>\n",
       "      <td>-1.300714e-02</td>\n",
       "      <td>-7.509251e-03</td>\n",
       "      <td>-1.300714e-02</td>\n",
       "      <td>-1.501977e-02</td>\n",
       "      <td>-2.124356e-02</td>\n",
       "      <td>...</td>\n",
       "      <td>-8.740715e-01</td>\n",
       "      <td>-3.360040e-02</td>\n",
       "      <td>-3.187434e-02</td>\n",
       "      <td>-7.509251e-03</td>\n",
       "      <td>-3.097541e-02</td>\n",
       "      <td>-1.501977e-02</td>\n",
       "      <td>-1.515622e+00</td>\n",
       "      <td>-7.509251e-03</td>\n",
       "      <td>-7.509251e-03</td>\n",
       "      <td>-1.061998e-02</td>\n",
       "    </tr>\n",
       "    <tr>\n",
       "      <th>25%</th>\n",
       "      <td>-1.061998e-02</td>\n",
       "      <td>-3.831684e-02</td>\n",
       "      <td>-7.509251e-03</td>\n",
       "      <td>-2.375237e-02</td>\n",
       "      <td>-7.509251e-03</td>\n",
       "      <td>-1.300714e-02</td>\n",
       "      <td>-7.509251e-03</td>\n",
       "      <td>-1.300714e-02</td>\n",
       "      <td>-1.501977e-02</td>\n",
       "      <td>-2.124356e-02</td>\n",
       "      <td>...</td>\n",
       "      <td>-5.913884e-01</td>\n",
       "      <td>-3.360040e-02</td>\n",
       "      <td>-3.187434e-02</td>\n",
       "      <td>-7.509251e-03</td>\n",
       "      <td>-3.097541e-02</td>\n",
       "      <td>-1.501977e-02</td>\n",
       "      <td>-8.608824e-01</td>\n",
       "      <td>-7.509251e-03</td>\n",
       "      <td>-7.509251e-03</td>\n",
       "      <td>-1.061998e-02</td>\n",
       "    </tr>\n",
       "    <tr>\n",
       "      <th>50%</th>\n",
       "      <td>-1.061998e-02</td>\n",
       "      <td>-3.831684e-02</td>\n",
       "      <td>-7.509251e-03</td>\n",
       "      <td>-2.375237e-02</td>\n",
       "      <td>-7.509251e-03</td>\n",
       "      <td>-1.300714e-02</td>\n",
       "      <td>-7.509251e-03</td>\n",
       "      <td>-1.300714e-02</td>\n",
       "      <td>-1.501977e-02</td>\n",
       "      <td>-2.124356e-02</td>\n",
       "      <td>...</td>\n",
       "      <td>-1.673639e-01</td>\n",
       "      <td>-3.360040e-02</td>\n",
       "      <td>-3.187434e-02</td>\n",
       "      <td>-7.509251e-03</td>\n",
       "      <td>-3.097541e-02</td>\n",
       "      <td>-1.501977e-02</td>\n",
       "      <td>-1.135894e-01</td>\n",
       "      <td>-7.509251e-03</td>\n",
       "      <td>-7.509251e-03</td>\n",
       "      <td>-1.061998e-02</td>\n",
       "    </tr>\n",
       "    <tr>\n",
       "      <th>75%</th>\n",
       "      <td>-1.061998e-02</td>\n",
       "      <td>-3.831684e-02</td>\n",
       "      <td>-7.509251e-03</td>\n",
       "      <td>-2.375237e-02</td>\n",
       "      <td>-7.509251e-03</td>\n",
       "      <td>-1.300714e-02</td>\n",
       "      <td>-7.509251e-03</td>\n",
       "      <td>-1.300714e-02</td>\n",
       "      <td>-1.501977e-02</td>\n",
       "      <td>-2.124356e-02</td>\n",
       "      <td>...</td>\n",
       "      <td>2.566607e-01</td>\n",
       "      <td>-3.360040e-02</td>\n",
       "      <td>-3.187434e-02</td>\n",
       "      <td>-7.509251e-03</td>\n",
       "      <td>-3.097541e-02</td>\n",
       "      <td>-1.501977e-02</td>\n",
       "      <td>8.747180e-01</td>\n",
       "      <td>-7.509251e-03</td>\n",
       "      <td>-7.509251e-03</td>\n",
       "      <td>-1.061998e-02</td>\n",
       "    </tr>\n",
       "    <tr>\n",
       "      <th>max</th>\n",
       "      <td>9.415678e+01</td>\n",
       "      <td>2.609671e+01</td>\n",
       "      <td>1.331616e+02</td>\n",
       "      <td>4.209869e+01</td>\n",
       "      <td>1.331616e+02</td>\n",
       "      <td>7.687652e+01</td>\n",
       "      <td>1.331616e+02</td>\n",
       "      <td>7.687652e+01</td>\n",
       "      <td>6.657515e+01</td>\n",
       "      <td>4.707043e+01</td>\n",
       "      <td>...</td>\n",
       "      <td>1.326008e+01</td>\n",
       "      <td>2.975987e+01</td>\n",
       "      <td>3.137143e+01</td>\n",
       "      <td>1.331616e+02</td>\n",
       "      <td>3.228185e+01</td>\n",
       "      <td>6.657515e+01</td>\n",
       "      <td>1.876720e+00</td>\n",
       "      <td>1.331616e+02</td>\n",
       "      <td>1.331616e+02</td>\n",
       "      <td>9.415678e+01</td>\n",
       "    </tr>\n",
       "  </tbody>\n",
       "</table>\n",
       "<p>8 rows × 462 columns</p>\n",
       "</div>"
      ],
      "text/plain": [
       "        Alexander Naumov  1981-01-01 00:00:00  1982-08-23 00:00:00  \\\n",
       "count       1.773400e+04         1.773400e+04         1.773400e+04   \n",
       "mean        2.070440e-16         1.431887e-14        -7.671903e-16   \n",
       "std         1.000000e+00         1.000000e+00         1.000000e+00   \n",
       "min        -1.061998e-02        -3.831684e-02        -7.509251e-03   \n",
       "25%        -1.061998e-02        -3.831684e-02        -7.509251e-03   \n",
       "50%        -1.061998e-02        -3.831684e-02        -7.509251e-03   \n",
       "75%        -1.061998e-02        -3.831684e-02        -7.509251e-03   \n",
       "max         9.415678e+01         2.609671e+01         1.331616e+02   \n",
       "\n",
       "       1982-11-26 00:00:00  1988-01-01 00:00:00  1991-11-26 00:00:00  \\\n",
       "count         1.773400e+04         1.773400e+04         1.773400e+04   \n",
       "mean         -4.044959e-15        -7.679916e-16         1.121457e-15   \n",
       "std           1.000000e+00         1.000000e+00         1.000000e+00   \n",
       "min          -2.375237e-02        -7.509251e-03        -1.300714e-02   \n",
       "25%          -2.375237e-02        -7.509251e-03        -1.300714e-02   \n",
       "50%          -2.375237e-02        -7.509251e-03        -1.300714e-02   \n",
       "75%          -2.375237e-02        -7.509251e-03        -1.300714e-02   \n",
       "max           4.209869e+01         1.331616e+02         7.687652e+01   \n",
       "\n",
       "       1994-11-26 00:00:00  1995-11-26 00:00:00  1995-12-05 00:00:00  \\\n",
       "count         1.773400e+04         1.773400e+04         1.773400e+04   \n",
       "mean         -6.566062e-16         1.132676e-15        -2.319950e-15   \n",
       "std           1.000000e+00         1.000000e+00         1.000000e+00   \n",
       "min          -7.509251e-03        -1.300714e-02        -1.501977e-02   \n",
       "25%          -7.509251e-03        -1.300714e-02        -1.501977e-02   \n",
       "50%          -7.509251e-03        -1.300714e-02        -1.501977e-02   \n",
       "75%          -7.509251e-03        -1.300714e-02        -1.501977e-02   \n",
       "max           1.331616e+02         7.687652e+01         6.657515e+01   \n",
       "\n",
       "       1996-07-21 00:00:00  ...        number            pt            ru  \\\n",
       "count         1.773400e+04  ...  1.773400e+04  1.773400e+04  1.773400e+04   \n",
       "mean          6.692395e-15  ... -1.858274e-15 -3.092243e-15  6.404794e-16   \n",
       "std           1.000000e+00  ...  1.000000e+00  1.000000e+00  1.000000e+00   \n",
       "min          -2.124356e-02  ... -8.740715e-01 -3.360040e-02 -3.187434e-02   \n",
       "25%          -2.124356e-02  ... -5.913884e-01 -3.360040e-02 -3.187434e-02   \n",
       "50%          -2.124356e-02  ... -1.673639e-01 -3.360040e-02 -3.187434e-02   \n",
       "75%          -2.124356e-02  ...  2.566607e-01 -3.360040e-02 -3.187434e-02   \n",
       "max           4.707043e+01  ...  1.326008e+01  2.975987e+01  3.137143e+01   \n",
       "\n",
       "           sentense            sr            tr      track_id   traditional  \\\n",
       "count  1.773400e+04  1.773400e+04  1.773400e+04  1.773400e+04  1.773400e+04   \n",
       "mean  -7.671903e-16  3.949334e-15 -2.049100e-15  1.809762e-16 -7.680183e-16   \n",
       "std    1.000000e+00  1.000000e+00  1.000000e+00  1.000000e+00  1.000000e+00   \n",
       "min   -7.509251e-03 -3.097541e-02 -1.501977e-02 -1.515622e+00 -7.509251e-03   \n",
       "25%   -7.509251e-03 -3.097541e-02 -1.501977e-02 -8.608824e-01 -7.509251e-03   \n",
       "50%   -7.509251e-03 -3.097541e-02 -1.501977e-02 -1.135894e-01 -7.509251e-03   \n",
       "75%   -7.509251e-03 -3.097541e-02 -1.501977e-02  8.747180e-01 -7.509251e-03   \n",
       "max    1.331616e+02  3.228185e+01  6.657515e+01  1.876720e+00  1.331616e+02   \n",
       "\n",
       "       uses samples from\\n\\na) Jazu64               Fenslerfilm GI Joe PSA 18 – pimp           http://www.youtube.com/watch?v=LjuPGKvdeFo\\n\\nb) nikolat      allconnected_88bpm.wav         http://www.freesound.org/samplesViewSingle.php?id=22126  \\\n",
       "count                                       1.773400e+04                                                                                                                                                                                              \n",
       "mean                                       -7.672170e-16                                                                                                                                                                                              \n",
       "std                                         1.000000e+00                                                                                                                                                                                              \n",
       "min                                        -7.509251e-03                                                                                                                                                                                              \n",
       "25%                                        -7.509251e-03                                                                                                                                                                                              \n",
       "50%                                        -7.509251e-03                                                                                                                                                                                              \n",
       "75%                                        -7.509251e-03                                                                                                                                                                                              \n",
       "max                                         1.331616e+02                                                                                                                                                                                              \n",
       "\n",
       "                 zh  \n",
       "count  1.773400e+04  \n",
       "mean   1.168244e-15  \n",
       "std    1.000000e+00  \n",
       "min   -1.061998e-02  \n",
       "25%   -1.061998e-02  \n",
       "50%   -1.061998e-02  \n",
       "75%   -1.061998e-02  \n",
       "max    9.415678e+01  \n",
       "\n",
       "[8 rows x 462 columns]"
      ]
     },
     "execution_count": 170,
     "metadata": {},
     "output_type": "execute_result"
    }
   ],
   "source": [
    "\n",
    "data = data.loc[:,~data.columns.duplicated()]\n",
    "data_stand = (data - data.mean(axis = 0))/data.std(axis = 0)\n",
    "data_stand.describe()\n"
   ]
  },
  {
   "cell_type": "markdown",
   "id": "b8276568",
   "metadata": {},
   "source": [
    "Разбиение данных на обучающую и тестовую выборку:"
   ]
  },
  {
   "cell_type": "code",
   "execution_count": 171,
   "id": "8be3a58d",
   "metadata": {},
   "outputs": [
    {
     "data": {
      "text/plain": [
       "array([0, 0, 0, ..., 1, 1, 1])"
      ]
     },
     "execution_count": 171,
     "metadata": {},
     "output_type": "execute_result"
    }
   ],
   "source": [
    "X = data_stand\n",
    "\n",
    "X = X.to_numpy(dtype='f')\n",
    "y = np.array(y != 'Rock', dtype='int')\n",
    "y"
   ]
  },
  {
   "cell_type": "code",
   "execution_count": 172,
   "id": "b8503374",
   "metadata": {},
   "outputs": [
    {
     "name": "stdout",
     "output_type": "stream",
     "text": [
      "(17734, 467)\n",
      "(17734,)\n"
     ]
    }
   ],
   "source": [
    "X[np.isnan(X)] = 0.0\n",
    "print(X.shape)\n",
    "print(y.shape)\n",
    "N, d = X.shape\n"
   ]
  },
  {
   "cell_type": "code",
   "execution_count": 173,
   "id": "57726d31",
   "metadata": {},
   "outputs": [],
   "source": [
    "from sklearn.neural_network import MLPClassifier\n",
    "from sklearn.metrics import accuracy_score, confusion_matrix, ConfusionMatrixDisplay\n",
    "from sklearn.model_selection import train_test_split"
   ]
  },
  {
   "cell_type": "code",
   "execution_count": 174,
   "id": "bffbec65",
   "metadata": {},
   "outputs": [
    {
     "name": "stdout",
     "output_type": "stream",
     "text": [
      "12413 5321\n"
     ]
    }
   ],
   "source": [
    "X_train, X_test, y_train, y_test = train_test_split(X, y, test_size = 0.3, random_state = 42)\n",
    "N_train, _ = X_train.shape \n",
    "N_test,  _ = X_test.shape \n",
    "print(N_train, N_test)\n"
   ]
  },
  {
   "cell_type": "markdown",
   "id": "7c497e5c",
   "metadata": {},
   "source": [
    "Обучение классификатора:"
   ]
  },
  {
   "cell_type": "code",
   "execution_count": 175,
   "id": "9f6987a5",
   "metadata": {
    "scrolled": true
   },
   "outputs": [
    {
     "data": {
      "text/plain": [
       "MLPClassifier(activation='logistic', random_state=42, solver='lbfgs')"
      ]
     },
     "execution_count": 175,
     "metadata": {},
     "output_type": "execute_result"
    }
   ],
   "source": [
    "mlp_model = MLPClassifier(hidden_layer_sizes = (100,), solver = 'lbfgs', activation = 'logistic', random_state = 42)\n",
    "mlp_model.fit(X_train, y_train)"
   ]
  },
  {
   "cell_type": "markdown",
   "id": "adff5e25",
   "metadata": {},
   "source": [
    "Проверяем качество классификатора:"
   ]
  },
  {
   "cell_type": "code",
   "execution_count": 176,
   "id": "7c652d74",
   "metadata": {},
   "outputs": [],
   "source": [
    "y_train_pred = mlp_model.predict(X_train)\n",
    "y_test_pred = mlp_model.predict(X_test)\n",
    "\n",
    "err_test = np.mean(y_test != y_test_pred)\n",
    "err_train = np.mean(y_train != y_train_pred)\n",
    "train_acc = accuracy_score(y_train, y_train_pred)\n",
    "test_acc = accuracy_score(y_test, y_test_pred)"
   ]
  },
  {
   "cell_type": "code",
   "execution_count": 177,
   "id": "679fbaa4",
   "metadata": {},
   "outputs": [
    {
     "name": "stdout",
     "output_type": "stream",
     "text": [
      "Train error: 0.0, Test error: 0.0009396729937981583\n",
      "Train accuracy: 100.00% Test accuracy: 99.91%\n"
     ]
    }
   ],
   "source": [
    "print('Train error: {}, Test error: {}'.format(err_train, err_test))\n",
    "print(\"Train accuracy: {:.2f}% Test accuracy: {:.2f}%\".format(train_acc* 100, test_acc * 100))"
   ]
  },
  {
   "cell_type": "markdown",
   "id": "ca62ab4e",
   "metadata": {},
   "source": [
    "Подбор параметра регуляризации alpha:"
   ]
  },
  {
   "cell_type": "code",
   "execution_count": 178,
   "id": "82218d98",
   "metadata": {},
   "outputs": [],
   "source": [
    "alpha_arr = np.logspace(-3, 2, 21)\n",
    "test_err = []\n",
    "train_err = []\n",
    "train_acc = []\n",
    "test_acc = []\n",
    "for alpha in alpha_arr:\n",
    "    mlp_model = MLPClassifier(alpha = alpha, hidden_layer_sizes = (100,),\n",
    "                              solver = 'lbfgs', activation = 'logistic', random_state = 42)\n",
    "    mlp_model.fit(X_train, y_train)\n",
    "\n",
    "    y_train_pred = mlp_model.predict(X_train)\n",
    "    y_test_pred = mlp_model.predict(X_test)\n",
    "    train_err.append(np.mean(y_train != y_train_pred))\n",
    "    test_err.append(np.mean(y_test != y_test_pred))\n",
    "    train_acc.append(accuracy_score(y_train, y_train_pred))\n",
    "    test_acc.append(accuracy_score(y_test, y_test_pred))"
   ]
  },
  {
   "cell_type": "markdown",
   "id": "340b2f19",
   "metadata": {},
   "source": [
    "Построение графика зависимости ошибки от alpha:"
   ]
  },
  {
   "cell_type": "code",
   "execution_count": 179,
   "id": "6edb8f8b",
   "metadata": {
    "scrolled": true
   },
   "outputs": [
    {
     "data": {
      "image/png": "[encoded data removed]",
      "text/plain": [
       "<Figure size 432x288 with 1 Axes>"
      ]
     },
     "metadata": {
      "needs_background": "light"
     },
     "output_type": "display_data"
    }
   ],
   "source": [
    "plt.semilogx(alpha_arr, train_err, 'b-o', label = 'test')\n",
    "plt.semilogx(alpha_arr, test_err, 'r-o', label = 'train')\n",
    "plt.xlim([np.min(alpha_arr), np.max(alpha_arr)])\n",
    "plt.title('Error vs alpha')\n",
    "plt.xlabel('alpha')\n",
    "plt.ylabel('error')\n",
    "plt.legend()\n",
    "pass"
   ]
  },
  {
   "cell_type": "markdown",
   "id": "56196746",
   "metadata": {},
   "source": [
    "Построение графика зависимости точности от alpha:"
   ]
  },
  {
   "cell_type": "code",
   "execution_count": 180,
   "id": "78f28180",
   "metadata": {},
   "outputs": [
    {
     "data": {
      "image/png": "[encoded data removed]",
      "text/plain": [
       "<Figure size 432x288 with 1 Axes>"
      ]
     },
     "metadata": {
      "needs_background": "light"
     },
     "output_type": "display_data"
    }
   ],
   "source": [
    "plt.semilogx(alpha_arr, train_acc, 'r-o', label='train')\n",
    "plt.semilogx(alpha_arr, test_acc, 'b-o', label='test')\n",
    "plt.xlim([np.min(alpha_arr), np.max(alpha_arr)])\n",
    "plt.title('Accuracy vs alpha')\n",
    "plt.xlabel('alpha')\n",
    "plt.ylabel('accuracy')\n",
    "plt.legend()\n",
    "pass"
   ]
  },
  {
   "cell_type": "markdown",
   "id": "40738c8d",
   "metadata": {},
   "source": [
    "Минимальное значение ошибки и оптимальное значение alpha:"
   ]
  },
  {
   "cell_type": "code",
   "execution_count": 181,
   "id": "38aac07b",
   "metadata": {},
   "outputs": [
    {
     "name": "stdout",
     "output_type": "stream",
     "text": [
      "Min train error: 0.0, \tMin test error: 0.0\n",
      "Alpha:  1.7782794100389228\n"
     ]
    }
   ],
   "source": [
    "min_train_err = np.min(train_err)\n",
    "min_test_err = np.min(test_err)\n",
    "alpha_opt = alpha_arr[test_err == min_test_err][0]\n",
    "\n",
    "print('Min train error: {}, \\tMin test error: {}'.format(min_train_err, min_test_err))\n",
    "print('Alpha: ', alpha_opt)"
   ]
  },
  {
   "cell_type": "markdown",
   "id": "7882ebd1",
   "metadata": {},
   "source": [
    "Классификатор при найденном значении alpha:"
   ]
  },
  {
   "cell_type": "code",
   "execution_count": 182,
   "id": "c6ffa23a",
   "metadata": {
    "scrolled": true
   },
   "outputs": [
    {
     "name": "stdout",
     "output_type": "stream",
     "text": [
      "Train error: 0.0, Test error: 0.0\n"
     ]
    }
   ],
   "source": [
    "mlp_model = MLPClassifier(alpha = alpha_opt, hidden_layer_sizes = (100,),\n",
    "                          solver = 'lbfgs', activation = 'logistic', random_state = 42)\n",
    "mlp_model.fit(X_train, y_train)\n",
    "\n",
    "y_train_pred = mlp_model.predict(X_train)\n",
    "y_test_pred = mlp_model.predict(X_test)\n",
    "\n",
    "print('Train error: {}, Test error: {}'.format(np.mean(y_train != y_train_pred), np.mean(y_test != y_test_pred)))"
   ]
  },
  {
   "cell_type": "markdown",
   "id": "032949ec",
   "metadata": {},
   "source": [
    "Матрица рассогласования:"
   ]
  },
  {
   "cell_type": "code",
   "execution_count": 183,
   "id": "8a1ab4c0",
   "metadata": {},
   "outputs": [
    {
     "name": "stdout",
     "output_type": "stream",
     "text": [
      "[[4249    0]\n",
      " [   0 1072]]\n"
     ]
    }
   ],
   "source": [
    "print(confusion_matrix(y_test_pred, y_test))"
   ]
  },
  {
   "cell_type": "code",
   "execution_count": 184,
   "id": "49f2c0ae",
   "metadata": {},
   "outputs": [
    {
     "data": {
      "image/png": "[encoded data removed]",
      "text/plain": [
       "<Figure size 432x288 with 2 Axes>"
      ]
     },
     "metadata": {
      "needs_background": "light"
     },
     "output_type": "display_data"
    }
   ],
   "source": [
    "predictions = mlp_model.predict(X_test)\n",
    "cm = confusion_matrix(y_test, predictions, labels=mlp_model.classes_)\n",
    "disp = ConfusionMatrixDisplay(confusion_matrix=cm, display_labels=mlp_model.classes_)\n",
    "disp.plot()\n",
    "plt.show()"
   ]
  },
  {
   "cell_type": "markdown",
   "id": "5c0b72c4",
   "metadata": {},
   "source": [
    "Подбор числа нейронов в скрытом слое:"
   ]
  },
  {
   "cell_type": "code",
   "execution_count": 185,
   "id": "43be9c1b",
   "metadata": {},
   "outputs": [],
   "source": [
    "neurons_arr = np.arange(10, 150, 5)\n",
    "test_err = []\n",
    "train_err = []\n",
    "train_acc = []\n",
    "test_acc = []\n",
    "for neuron in neurons_arr:\n",
    "    mlp_model = MLPClassifier(alpha = alpha_opt, hidden_layer_sizes = (neuron,), \n",
    "                              solver = 'lbfgs', activation = 'logistic', random_state = 42)\n",
    "    mlp_model.fit(X_train, y_train)\n",
    "\n",
    "    y_train_pred = mlp_model.predict(X_train)\n",
    "    y_test_pred = mlp_model.predict(X_test)\n",
    "    train_err.append(np.mean(y_train != y_train_pred))\n",
    "    test_err.append(np.mean(y_test != y_test_pred))\n",
    "    train_acc.append(accuracy_score(y_train, y_train_pred))\n",
    "    test_acc.append(accuracy_score(y_test, y_test_pred))"
   ]
  },
  {
   "cell_type": "markdown",
   "id": "9a4bf671",
   "metadata": {},
   "source": [
    "Построение графика зависимости ошибки от количества нейронов:"
   ]
  },
  {
   "cell_type": "code",
   "execution_count": 186,
   "id": "be460138",
   "metadata": {
    "scrolled": false
   },
   "outputs": [
    {
     "data": {
      "image/png": "[encoded data removed]",
      "text/plain": [
       "<Figure size 432x288 with 1 Axes>"
      ]
     },
     "metadata": {
      "needs_background": "light"
     },
     "output_type": "display_data"
    }
   ],
   "source": [
    "plt.semilogx(neurons_arr, train_err, 'b-o', label = 'test')\n",
    "plt.semilogx(neurons_arr, test_err, 'r-o', label = 'train')\n",
    "plt.xlim([np.min(neurons_arr), np.max(neurons_arr)])\n",
    "plt.title('Error vs neuron')\n",
    "plt.xlabel('neuron')\n",
    "plt.ylabel('error')\n",
    "plt.legend()\n",
    "pass"
   ]
  },
  {
   "cell_type": "markdown",
   "id": "81ddf484",
   "metadata": {},
   "source": [
    "Построение графика зависимости точности от количества нейронов:"
   ]
  },
  {
   "cell_type": "code",
   "execution_count": 187,
   "id": "7caedfad",
   "metadata": {},
   "outputs": [
    {
     "data": {
      "image/png": "[encoded data removed]",
      "text/plain": [
       "<Figure size 432x288 with 1 Axes>"
      ]
     },
     "metadata": {
      "needs_background": "light"
     },
     "output_type": "display_data"
    }
   ],
   "source": [
    "plt.semilogx(neurons_arr, train_acc, 'r-o', label='train')\n",
    "plt.semilogx(neurons_arr, test_acc, 'b-o', label='test')\n",
    "plt.xlim([np.min(neurons_arr), np.max(neurons_arr)])\n",
    "plt.title('Accuracy vs neuron')\n",
    "plt.xlabel('neuron')\n",
    "plt.ylabel('accuracy')\n",
    "plt.legend()\n",
    "pass"
   ]
  },
  {
   "cell_type": "markdown",
   "id": "107ef2fc",
   "metadata": {},
   "source": [
    "Минимальное значение ошибки и оптимальное число нейронов:"
   ]
  },
  {
   "cell_type": "code",
   "execution_count": 188,
   "id": "ca439c42",
   "metadata": {
    "scrolled": true
   },
   "outputs": [
    {
     "name": "stdout",
     "output_type": "stream",
     "text": [
      "Min train error: 0.0, \tMin test error: 0.0\n",
      "Neuron:  10\n"
     ]
    }
   ],
   "source": [
    "min_train_err = np.min(train_err)\n",
    "min_test_err = np.min(test_err)\n",
    "neuron_opt = neurons_arr[test_err == min_test_err][0]\n",
    "\n",
    "print('Min train error: {}, \\tMin test error: {}'.format(min_train_err, min_test_err))\n",
    "print('Neuron: ', neuron_opt)"
   ]
  },
  {
   "cell_type": "markdown",
   "id": "b763226e",
   "metadata": {},
   "source": [
    "Классификатор при найденном значении нейронов:\n"
   ]
  },
  {
   "cell_type": "code",
   "execution_count": 189,
   "id": "725aa8fa",
   "metadata": {},
   "outputs": [
    {
     "name": "stdout",
     "output_type": "stream",
     "text": [
      "Train error: 0.0, Test error: 0.0\n"
     ]
    }
   ],
   "source": [
    "mlp_model = MLPClassifier(alpha = alpha_opt, hidden_layer_sizes = (neuron_opt,),\n",
    "                          solver = 'lbfgs', activation = 'logistic', random_state = 42)\n",
    "mlp_model.fit(X_train, y_train)\n",
    "\n",
    "y_train_pred = mlp_model.predict(X_train)\n",
    "y_test_pred = mlp_model.predict(X_test)\n",
    "\n",
    "print('Train error: {}, Test error: {}'.format(np.mean(y_train != y_train_pred), np.mean(y_test != y_test_pred)))"
   ]
  },
  {
   "cell_type": "markdown",
   "id": "7143add3",
   "metadata": {},
   "source": [
    "## Выводы:\n",
    "Исходя из графика зависимости параметра alpha от точности, можем наблюдать переобучение. При alpha равное оптимальному точность и на тестовой и на обучающей выборке совпадает, то есть получаем оптимальное значение для параметра регуляризации.\n",
    "По графику зависимостей количества нейронов от точности видим, что точность зависит от числа нейронов, начиная с оптимального значения нейронов = 10 точность на тестовой и обучающей выборках совпадает, при определенных значениях нейронов наблюдается недообучение, поскольку значение точности резко уменьшается.\n",
    "При подборе оптимальных значений гиперпараметров удалось достичь максимальной точности, но на тренировочной выборке изначально наблюдалось переобучение."
   ]
  }
 ],
 "metadata": {
  "kernelspec": {
   "display_name": "Python 3",
   "language": "python",
   "name": "python3"
  },
  "language_info": {
   "codemirror_mode": {
    "name": "ipython",
    "version": 3
   },
   "file_extension": ".py",
   "mimetype": "text/x-python",
   "name": "python",
   "nbconvert_exporter": "python",
   "pygments_lexer": "ipython3",
   "version": "3.8.8"
  }
 },
 "nbformat": 4,
 "nbformat_minor": 5
}
